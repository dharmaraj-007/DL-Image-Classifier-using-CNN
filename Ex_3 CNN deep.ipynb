{
  "cells": [
    {
      "cell_type": "markdown",
      "source": [
        "DHARMARAJ S\n",
        "\n",
        "212222240025"
      ],
      "metadata": {
        "id": "9phdo0ozZsCQ"
      },
      "id": "9phdo0ozZsCQ"
    },
    {
      "cell_type": "code",
      "execution_count": 1,
      "id": "57ffbbac-9f94-453f-973f-3a9b7c73feba",
      "metadata": {
        "id": "57ffbbac-9f94-453f-973f-3a9b7c73feba"
      },
      "outputs": [],
      "source": [
        "import torch\n",
        "import torch.nn as nn\n",
        "import torch.nn.functional as F\n",
        "from torch.utils.data import DataLoader\n",
        "from torchvision import datasets, transforms\n",
        "from torchvision.utils import make_grid\n",
        "\n",
        "import numpy as np\n",
        "import pandas as pd\n",
        "from sklearn.metrics import confusion_matrix\n",
        "import matplotlib.pyplot as plt\n",
        "%matplotlib inline"
      ]
    },
    {
      "cell_type": "code",
      "execution_count": 2,
      "id": "cca8435e-bb16-4685-9979-6f952cedcf05",
      "metadata": {
        "id": "cca8435e-bb16-4685-9979-6f952cedcf05"
      },
      "outputs": [],
      "source": [
        "transform = transforms.ToTensor()"
      ]
    },
    {
      "cell_type": "code",
      "execution_count": 3,
      "id": "7848dc6b-cce5-4549-b409-ce0ab71f9f3a",
      "metadata": {
        "colab": {
          "base_uri": "https://localhost:8080/"
        },
        "id": "7848dc6b-cce5-4549-b409-ce0ab71f9f3a",
        "outputId": "a12d4a39-5310-4d27-b688-8985192233eb"
      },
      "outputs": [
        {
          "output_type": "stream",
          "name": "stderr",
          "text": [
            "100%|██████████| 9.91M/9.91M [00:00<00:00, 16.3MB/s]\n",
            "100%|██████████| 28.9k/28.9k [00:00<00:00, 491kB/s]\n",
            "100%|██████████| 1.65M/1.65M [00:00<00:00, 4.48MB/s]\n",
            "100%|██████████| 4.54k/4.54k [00:00<00:00, 5.40MB/s]\n"
          ]
        }
      ],
      "source": [
        "train_data = datasets.MNIST(root='../Data', train=True, download=True, transform=transform)"
      ]
    },
    {
      "cell_type": "code",
      "execution_count": 4,
      "id": "aa3d0c36-3798-42f8-9213-5ec1d3068279",
      "metadata": {
        "id": "aa3d0c36-3798-42f8-9213-5ec1d3068279"
      },
      "outputs": [],
      "source": [
        "test_data = datasets.MNIST(root='../Data', train=False, download=True, transform=transform)"
      ]
    },
    {
      "cell_type": "code",
      "execution_count": 5,
      "id": "d81a902c-a21e-45e8-aaa1-56549c07d833",
      "metadata": {
        "colab": {
          "base_uri": "https://localhost:8080/"
        },
        "id": "d81a902c-a21e-45e8-aaa1-56549c07d833",
        "outputId": "37aa0dcc-5d37-40fd-9ca5-ec8f969b97b5"
      },
      "outputs": [
        {
          "output_type": "execute_result",
          "data": {
            "text/plain": [
              "Dataset MNIST\n",
              "    Number of datapoints: 60000\n",
              "    Root location: ../Data\n",
              "    Split: Train\n",
              "    StandardTransform\n",
              "Transform: ToTensor()"
            ]
          },
          "metadata": {},
          "execution_count": 5
        }
      ],
      "source": [
        "train_data"
      ]
    },
    {
      "cell_type": "code",
      "execution_count": 6,
      "id": "680a6f00-bf93-4094-bc15-fe25eb3ebe5c",
      "metadata": {
        "colab": {
          "base_uri": "https://localhost:8080/"
        },
        "id": "680a6f00-bf93-4094-bc15-fe25eb3ebe5c",
        "outputId": "32c384e2-0528-43ac-c07b-2b7eebee796b"
      },
      "outputs": [
        {
          "output_type": "execute_result",
          "data": {
            "text/plain": [
              "Dataset MNIST\n",
              "    Number of datapoints: 10000\n",
              "    Root location: ../Data\n",
              "    Split: Test\n",
              "    StandardTransform\n",
              "Transform: ToTensor()"
            ]
          },
          "metadata": {},
          "execution_count": 6
        }
      ],
      "source": [
        "test_data"
      ]
    },
    {
      "cell_type": "code",
      "execution_count": 7,
      "id": "c56d0f4b-b2b2-4970-9a2a-fb0636d41f3b",
      "metadata": {
        "id": "c56d0f4b-b2b2-4970-9a2a-fb0636d41f3b"
      },
      "outputs": [],
      "source": [
        "train_loader = DataLoader(train_data, batch_size=10, shuffle=True)\n",
        "test_loader = DataLoader(test_data, batch_size=10, shuffle=False)"
      ]
    },
    {
      "cell_type": "code",
      "execution_count": 8,
      "id": "c5ca464d-64eb-4040-b9d9-b93324f9e1a6",
      "metadata": {
        "id": "c5ca464d-64eb-4040-b9d9-b93324f9e1a6"
      },
      "outputs": [],
      "source": [
        "class ConvolutionalNetwork(nn.Module):\n",
        "\n",
        "    def __init__(self):\n",
        "        super().__init__()\n",
        "        self.conv1 = nn.Conv2d(1,6,3,1)\n",
        "        self.conv2 = nn.Conv2d(6,16,3,1)\n",
        "        self.fc1 = nn.Linear(5*5*16,120)\n",
        "        self.fc2 = nn.Linear(120,84)\n",
        "        self.fc3 = nn.Linear(84,10)\n",
        "\n",
        "    def forward(self, X):\n",
        "        X = F.relu(self.conv1(X))\n",
        "        X = F.max_pool2d(X, 2, 2)\n",
        "        X = F.relu(self.conv2(X))\n",
        "        X = F.max_pool2d(X, 2, 2)\n",
        "        X = X.view(-1, 5*5*16)\n",
        "        X = F.relu(self.fc1(X))\n",
        "        X = F.relu(self.fc2(X))\n",
        "        X = self.fc3(X)\n",
        "        return F.log_softmax(X, dim=1)\n",
        ""
      ]
    },
    {
      "cell_type": "code",
      "execution_count": 9,
      "id": "a4643c48-fed5-4efb-9f38-62cf7dc08366",
      "metadata": {
        "colab": {
          "base_uri": "https://localhost:8080/"
        },
        "id": "a4643c48-fed5-4efb-9f38-62cf7dc08366",
        "outputId": "30613d39-0971-4531-fbff-a366654d4384"
      },
      "outputs": [
        {
          "output_type": "execute_result",
          "data": {
            "text/plain": [
              "ConvolutionalNetwork(\n",
              "  (conv1): Conv2d(1, 6, kernel_size=(3, 3), stride=(1, 1))\n",
              "  (conv2): Conv2d(6, 16, kernel_size=(3, 3), stride=(1, 1))\n",
              "  (fc1): Linear(in_features=400, out_features=120, bias=True)\n",
              "  (fc2): Linear(in_features=120, out_features=84, bias=True)\n",
              "  (fc3): Linear(in_features=84, out_features=10, bias=True)\n",
              ")"
            ]
          },
          "metadata": {},
          "execution_count": 9
        }
      ],
      "source": [
        "torch.manual_seed(42)\n",
        "model = ConvolutionalNetwork()\n",
        "model"
      ]
    },
    {
      "cell_type": "code",
      "execution_count": 10,
      "id": "a68b9151-4cd2-4a59-96c1-d2e33481548d",
      "metadata": {
        "colab": {
          "base_uri": "https://localhost:8080/"
        },
        "id": "a68b9151-4cd2-4a59-96c1-d2e33481548d",
        "outputId": "e98997ee-e680-4f67-ab5c-d0e9c07e626c"
      },
      "outputs": [
        {
          "output_type": "stream",
          "name": "stdout",
          "text": [
            "54\n",
            "6\n",
            "864\n",
            "16\n",
            "48000\n",
            "120\n",
            "10080\n",
            "84\n",
            "840\n",
            "10\n"
          ]
        }
      ],
      "source": [
        "for param in model.parameters():\n",
        "    print(param.numel())"
      ]
    },
    {
      "cell_type": "code",
      "execution_count": 11,
      "id": "7e106650-5d70-4b16-b935-169c7c11cdce",
      "metadata": {
        "id": "7e106650-5d70-4b16-b935-169c7c11cdce"
      },
      "outputs": [],
      "source": [
        "criterion = nn.CrossEntropyLoss()\n",
        "optimizer = torch.optim.Adam(model.parameters(), lr=0.001)"
      ]
    },
    {
      "cell_type": "code",
      "execution_count": 14,
      "id": "ccb0dfb5-f694-44c3-9fa3-33ac58c72da0",
      "metadata": {
        "colab": {
          "base_uri": "https://localhost:8080/"
        },
        "id": "ccb0dfb5-f694-44c3-9fa3-33ac58c72da0",
        "outputId": "27bfb6ed-04ba-4b26-ffed-7f7173ef4095"
      },
      "outputs": [
        {
          "output_type": "stream",
          "name": "stdout",
          "text": [
            "epoch: 0  batch: 600 loss: 8.344567504536826e-06\n",
            "epoch: 0  batch: 1200 loss: 0.0632518082857132\n",
            "epoch: 0  batch: 1800 loss: 0.1510244905948639\n",
            "epoch: 0  batch: 2400 loss: 0.0002864756097551435\n",
            "epoch: 0  batch: 3000 loss: 9.979263268178329e-05\n",
            "epoch: 0  batch: 3600 loss: 0.0008287866367027164\n",
            "epoch: 0  batch: 4200 loss: 6.907455099280924e-05\n",
            "epoch: 0  batch: 4800 loss: 4.982109385309741e-05\n",
            "epoch: 0  batch: 5400 loss: 9.657077316660434e-05\n",
            "epoch: 0  batch: 6000 loss: 7.8925586421974e-05\n",
            "epoch: 1  batch: 600 loss: 0.000970064545981586\n",
            "epoch: 1  batch: 1200 loss: 0.0021447124890983105\n",
            "epoch: 1  batch: 1800 loss: 0.03669845685362816\n",
            "epoch: 1  batch: 2400 loss: 0.0002442511613480747\n",
            "epoch: 1  batch: 3000 loss: 1.5127338883758057e-05\n",
            "epoch: 1  batch: 3600 loss: 0.00044823609641753137\n",
            "epoch: 1  batch: 4200 loss: 0.00045781541848555207\n",
            "epoch: 1  batch: 4800 loss: 0.015219561755657196\n",
            "epoch: 1  batch: 5400 loss: 0.00016675733786541969\n",
            "epoch: 1  batch: 6000 loss: 0.00019273512589279562\n",
            "epoch: 2  batch: 600 loss: 3.2813026336953044e-05\n",
            "epoch: 2  batch: 1200 loss: 1.5258727898981306e-06\n",
            "epoch: 2  batch: 1800 loss: 0.001954043749719858\n",
            "epoch: 2  batch: 2400 loss: 0.0040188143029809\n",
            "epoch: 2  batch: 3000 loss: 3.82114048989024e-05\n",
            "epoch: 2  batch: 3600 loss: 0.006366127170622349\n",
            "epoch: 2  batch: 4200 loss: 8.856865861162078e-06\n",
            "epoch: 2  batch: 4800 loss: 0.0014743204228579998\n",
            "epoch: 2  batch: 5400 loss: 0.00023243753821589053\n",
            "epoch: 2  batch: 6000 loss: 0.00023724886705167592\n",
            "epoch: 3  batch: 600 loss: 2.313711775059346e-05\n",
            "epoch: 3  batch: 1200 loss: 0.20946332812309265\n",
            "epoch: 3  batch: 1800 loss: 0.0003517810255289078\n",
            "epoch: 3  batch: 2400 loss: 0.5648371577262878\n",
            "epoch: 3  batch: 3000 loss: 0.041217416524887085\n",
            "epoch: 3  batch: 3600 loss: 1.0967236221404164e-06\n",
            "epoch: 3  batch: 4200 loss: 0.026715358719229698\n",
            "epoch: 3  batch: 4800 loss: 0.0001327072095591575\n",
            "epoch: 3  batch: 5400 loss: 6.803435826441273e-05\n",
            "epoch: 3  batch: 6000 loss: 6.508659134851769e-05\n",
            "epoch: 4  batch: 600 loss: 0.00011243488552281633\n",
            "epoch: 4  batch: 1200 loss: 0.4054279923439026\n",
            "epoch: 4  batch: 1800 loss: 6.687480890832376e-06\n",
            "epoch: 4  batch: 2400 loss: 0.0015398237155750394\n",
            "epoch: 4  batch: 3000 loss: 0.00010955308971460909\n",
            "epoch: 4  batch: 3600 loss: 0.16771648824214935\n",
            "epoch: 4  batch: 4200 loss: 0.02108270302414894\n",
            "epoch: 4  batch: 4800 loss: 1.156328266915807e-06\n",
            "epoch: 4  batch: 5400 loss: 0.00013591072638519108\n",
            "epoch: 4  batch: 6000 loss: 2.527226342863287e-06\n",
            "Training took 3.844670327504476 minutes\n"
          ]
        }
      ],
      "source": [
        "import time\n",
        "start_time = time.time()\n",
        "\n",
        "# Variables ( Trackers)\n",
        "epochs = 5\n",
        "train_losses = []\n",
        "test_losses = []\n",
        "train_correct = []\n",
        "test_correct = []\n",
        "\n",
        "# for loop epochs\n",
        "for i in range(epochs):\n",
        "\n",
        "    trn_corr = 0\n",
        "    tst_corr = 0\n",
        "\n",
        "\n",
        "    # Run the training batches\n",
        "    for b, (X_train, y_train) in enumerate(train_loader):\n",
        "        b+=1\n",
        "\n",
        "        # Apply the model\n",
        "        y_pred = model(X_train)  # we not flatten X-train here\n",
        "        loss = criterion(y_pred, y_train)\n",
        "\n",
        "\n",
        "        predicted = torch.max(y_pred.data, 1)[1]\n",
        "        batch_corr = (predicted == y_train).sum()  # Trure 1 / False 0 sum()\n",
        "        trn_corr += batch_corr\n",
        "\n",
        "        # Update parameters\n",
        "        optimizer.zero_grad()\n",
        "        loss.backward()\n",
        "        optimizer.step()\n",
        "\n",
        "        # Print interim results\n",
        "        if b%600 == 0:\n",
        "            print(f'epoch: {i}  batch: {b} loss: {loss.item()}')\n",
        "\n",
        "    # Detach the loss tensor before appending to the list\n",
        "    train_losses.append(loss.detach())\n",
        "    train_correct.append(trn_corr)\n",
        "\n",
        "    # Run the testing batches\n",
        "    with torch.no_grad():\n",
        "        for b, (X_test, y_test) in enumerate(test_loader):\n",
        "\n",
        "            # Apply the model\n",
        "            y_val = model(X_test)\n",
        "\n",
        "            # Tally the number of correct predictions\n",
        "            predicted = torch.max(y_val.data, 1)[1]\n",
        "            tst_corr += (predicted == y_test).sum()\n",
        "\n",
        "    # Calculate the loss for the test batch within the no_grad context\n",
        "    test_loss = criterion(y_val, y_test)\n",
        "    # Detach the test_loss tensor before appending to the list\n",
        "    test_losses.append(test_loss.detach())\n",
        "    test_correct.append(tst_corr)\n",
        "\n",
        "current_time = time.time()\n",
        "total = current_time - start_time\n",
        "print(f'Training took {total/60} minutes')"
      ]
    },
    {
      "cell_type": "code",
      "execution_count": 15,
      "id": "99682f26-be00-46d2-8d7d-c91e81bff560",
      "metadata": {
        "colab": {
          "base_uri": "https://localhost:8080/",
          "height": 452
        },
        "id": "99682f26-be00-46d2-8d7d-c91e81bff560",
        "outputId": "76a4ea4d-da9a-4d82-f4f0-f1cc4577ba3f"
      },
      "outputs": [
        {
          "output_type": "display_data",
          "data": {
            "text/plain": [
              "<Figure size 640x480 with 1 Axes>"
            ],
            "image/png": "[encoded data removed]"
          },
          "metadata": {}
        }
      ],
      "source": [
        "plt.plot(train_losses, label='training loss')\n",
        "plt.plot(test_losses, label='validation loss')\n",
        "plt.title('Loss at the end of each epoch')\n",
        "plt.legend()\n",
        "plt.show()"
      ]
    },
    {
      "cell_type": "code",
      "execution_count": 16,
      "id": "1222c585-875d-47ce-bf86-3d76931ed6ce",
      "metadata": {
        "colab": {
          "base_uri": "https://localhost:8080/",
          "height": 452
        },
        "id": "1222c585-875d-47ce-bf86-3d76931ed6ce",
        "outputId": "11699e7a-1519-424c-89bf-5a47c4709dc5"
      },
      "outputs": [
        {
          "output_type": "display_data",
          "data": {
            "text/plain": [
              "<Figure size 640x480 with 1 Axes>"
            ],
            "image/png": "[encoded data removed]"
          },
          "metadata": {}
        }
      ],
      "source": [
        "plt.plot([t/600 for t in train_correct], label='training accuracy')\n",
        "plt.plot([t/100 for t in test_correct], label='validation accuracy')\n",
        "plt.title('Accuracy at the end of each epoch')\n",
        "plt.legend();\n",
        "plt.show()"
      ]
    },
    {
      "cell_type": "code",
      "execution_count": 17,
      "id": "9ca09762-610f-4caf-b9d2-ca519d147caf",
      "metadata": {
        "id": "9ca09762-610f-4caf-b9d2-ca519d147caf"
      },
      "outputs": [],
      "source": [
        "# Extract the data all at once, not in batches\n",
        "test_load_all = DataLoader(test_data, batch_size=10000, shuffle=False)"
      ]
    },
    {
      "cell_type": "code",
      "execution_count": 18,
      "id": "5a5cbe1d-d8e0-49f3-8653-215335c4b17f",
      "metadata": {
        "id": "5a5cbe1d-d8e0-49f3-8653-215335c4b17f"
      },
      "outputs": [],
      "source": [
        "with torch.no_grad():\n",
        "    correct = 0\n",
        "    for X_test, y_test in test_load_all:\n",
        "        y_val = model(X_test)  # we don't flatten the data this time\n",
        "        predicted = torch.max(y_val,1)[1]\n",
        "        correct += (predicted == y_test).sum()\n"
      ]
    },
    {
      "cell_type": "code",
      "execution_count": 19,
      "id": "d3df19d7-b57c-4e2a-b7ab-1287b399a686",
      "metadata": {
        "colab": {
          "base_uri": "https://localhost:8080/"
        },
        "id": "d3df19d7-b57c-4e2a-b7ab-1287b399a686",
        "outputId": "c2677644-6164-4cf4-8338-52302d6689a0"
      },
      "outputs": [
        {
          "output_type": "stream",
          "name": "stdout",
          "text": [
            "[[   0    1    2    3    4    5    6    7    8    9]]\n",
            "\n",
            "[[ 961    0    1    0    0    1    1    0    0    0]\n",
            " [   0 1129    0    1    0    0    2    3    0    0]\n",
            " [   2    0 1013    1    0    0    1    3    0    0]\n",
            " [   0    2    1 1001    0    5    0    0    2    0]\n",
            " [   0    0    1    0  966    0    1    0    0    5]\n",
            " [   0    1    0    3    0  884    3    1    2    6]\n",
            " [   6    2    1    0    6    1  949    0    0    0]\n",
            " [   3    0    9    1    1    0    0 1015    1    2]\n",
            " [   3    1    6    2    1    1    1    3  967    8]\n",
            " [   5    0    0    1    8    0    0    3    2  988]]\n"
          ]
        }
      ],
      "source": [
        "# print a row of values for reference\n",
        "np.set_printoptions(formatter=dict(int=lambda x: f'{x:4}'))\n",
        "print(np.arange(10).reshape(1,10))\n",
        "print()\n",
        "\n",
        "# print the confusion matrix\n",
        "print(confusion_matrix(predicted.view(-1), y_test.view(-1)))"
      ]
    },
    {
      "cell_type": "code",
      "execution_count": 20,
      "id": "16a0411c-0071-4242-8df6-6f219ef669e4",
      "metadata": {
        "colab": {
          "base_uri": "https://localhost:8080/",
          "height": 430
        },
        "id": "16a0411c-0071-4242-8df6-6f219ef669e4",
        "outputId": "10c29311-6199-4d64-a2c9-775cc1f5e557"
      },
      "outputs": [
        {
          "output_type": "display_data",
          "data": {
            "text/plain": [
              "<Figure size 640x480 with 1 Axes>"
            ],
            "image/png": "[encoded data removed]"
          },
          "metadata": {}
        }
      ],
      "source": [
        "# single image for test\n",
        "plt.imshow(test_data[2019][0].reshape(28,28))\n",
        "plt.show()"
      ]
    },
    {
      "cell_type": "code",
      "execution_count": 21,
      "id": "086e1f99-008f-4883-a7e5-bd3b048dc499",
      "metadata": {
        "id": "086e1f99-008f-4883-a7e5-bd3b048dc499"
      },
      "outputs": [],
      "source": [
        "model.eval()\n",
        "with torch.no_grad():\n",
        "    new_prediction = model(test_data[2019][0].view(1,1,28,28))"
      ]
    },
    {
      "cell_type": "code",
      "execution_count": 22,
      "id": "1be437fb-d683-44da-baba-36b9a2ed689d",
      "metadata": {
        "colab": {
          "base_uri": "https://localhost:8080/"
        },
        "id": "1be437fb-d683-44da-baba-36b9a2ed689d",
        "outputId": "effdf15c-69a9-47c5-9f59-b4fc0f113f91"
      },
      "outputs": [
        {
          "output_type": "execute_result",
          "data": {
            "text/plain": [
              "tensor(9)"
            ]
          },
          "metadata": {},
          "execution_count": 22
        }
      ],
      "source": [
        "new_prediction.argmax()"
      ]
    },
    {
      "cell_type": "code",
      "execution_count": 28,
      "id": "fb040c87-5055-48cc-b377-31f8b164a2d2",
      "metadata": {
        "id": "fb040c87-5055-48cc-b377-31f8b164a2d2"
      },
      "outputs": [],
      "source": [
        "torch.save(model.state_dict(), 'dharma212222240025.pt')"
      ]
    },
    {
      "cell_type": "code",
      "source": [
        "new_model = ConvolutionalNetwork() # Replace Model with ConvolutionalNetwork\n",
        "new_model.load_state_dict(torch.load('dharma212222240025.pt'))\n",
        "new_model.eval()\n",
        ""
      ],
      "metadata": {
        "colab": {
          "base_uri": "https://localhost:8080/"
        },
        "id": "uvnUf3ECc2o9",
        "outputId": "5034a62b-5b78-41b4-c64a-c94ef6ec46ce"
      },
      "id": "uvnUf3ECc2o9",
      "execution_count": 29,
      "outputs": [
        {
          "output_type": "execute_result",
          "data": {
            "text/plain": [
              "ConvolutionalNetwork(\n",
              "  (conv1): Conv2d(1, 6, kernel_size=(3, 3), stride=(1, 1))\n",
              "  (conv2): Conv2d(6, 16, kernel_size=(3, 3), stride=(1, 1))\n",
              "  (fc1): Linear(in_features=400, out_features=120, bias=True)\n",
              "  (fc2): Linear(in_features=120, out_features=84, bias=True)\n",
              "  (fc3): Linear(in_features=84, out_features=10, bias=True)\n",
              ")"
            ]
          },
          "metadata": {},
          "execution_count": 29
        }
      ]
    },
    {
      "cell_type": "markdown",
      "source": [
        "DHARMARAJ S\n",
        "212222240025"
      ],
      "metadata": {
        "id": "33p1p9N1c_rU"
      },
      "id": "33p1p9N1c_rU"
    }
  ],
  "metadata": {
    "kernelspec": {
      "display_name": "Python 3 (ipykernel)",
      "language": "python",
      "name": "python3"
    },
    "language_info": {
      "codemirror_mode": {
        "name": "ipython",
        "version": 3
      },
      "file_extension": ".py",
      "mimetype": "text/x-python",
      "name": "python",
      "nbconvert_exporter": "python",
      "pygments_lexer": "ipython3",
      "version": "3.12.2"
    },
    "colab": {
      "provenance": []
    }
  },
  "nbformat": 4,
  "nbformat_minor": 5
}